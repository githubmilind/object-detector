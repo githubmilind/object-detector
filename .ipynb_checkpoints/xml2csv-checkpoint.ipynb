{
 "cells": [
  {
   "cell_type": "code",
   "execution_count": 7,
   "id": "322d75d8",
   "metadata": {},
   "outputs": [],
   "source": [
    "import os\n",
    "import xml.etree.ElementTree as Xet\n",
    "import pandas as pd"
   ]
  },
  {
   "cell_type": "code",
   "execution_count": 9,
   "id": "2a57b55c",
   "metadata": {},
   "outputs": [
    {
     "name": "stdout",
     "output_type": "stream",
     "text": [
      "C:/FAU/bottle_detector/images/OceanPlasticBottleXML/PXL_20210925_121634412.xml\n",
      "<Element 'annotation' at 0x00000293EC49D310>\n",
      "C:/FAU/bottle_detector/images/OceanPlasticBottleXML/PXL_20210925_121647053.MP.xml\n",
      "<Element 'annotation' at 0x00000293EC49D9A0>\n",
      "C:/FAU/bottle_detector/images/OceanPlasticBottleXML/PXL_20210925_121648811.MP.xml\n",
      "<Element 'annotation' at 0x00000293EC49D310>\n",
      "C:/FAU/bottle_detector/images/OceanPlasticBottleXML/PXL_20210925_121654174.xml\n",
      "<Element 'annotation' at 0x00000293EC4B0090>\n",
      "C:/FAU/bottle_detector/images/OceanPlasticBottleXML/PXL_20210925_121655411.xml\n",
      "<Element 'annotation' at 0x00000293EC49D310>\n",
      "C:/FAU/bottle_detector/images/OceanPlasticBottleXML/PXL_20210925_121707350.xml\n",
      "<Element 'annotation' at 0x00000293EC4B0090>\n"
     ]
    }
   ],
   "source": [
    "folder_path = 'C:/FAU/bottle_detector/images/OceanPlasticBottleXML/' \n",
    "files = os.listdir(folder_path)\n",
    "i=0\n",
    "for file in files:\n",
    "    if i > 5:\n",
    "        break\n",
    "    i = i+1\n",
    "    if os.path.isfile(os.path.join(folder_path, file)):\n",
    "        print(os.path.join(folder_path, file))\n",
    "        xmlparse = Xet.parse(os.path.join(folder_path, file))\n",
    "        root = xmlparse.getroot()\n",
    "        for objects in root.findall('object'):\n",
    "            xmin = objects.find('xmin').text\n",
    "            ymin = objects.find('ymin').text\n",
    "            xmax = objects.find('xmax').text\n",
    "            ymax = objects.find('ymax').text\n",
    "\n",
    "\n",
    "        #f = open(os.path.join(folder_path, file),'r')\n",
    "        #f.close()\n"
   ]
  }
 ],
 "metadata": {
  "kernelspec": {
   "display_name": "Python 3",
   "language": "python",
   "name": "python3"
  },
  "language_info": {
   "codemirror_mode": {
    "name": "ipython",
    "version": 3
   },
   "file_extension": ".py",
   "mimetype": "text/x-python",
   "name": "python",
   "nbconvert_exporter": "python",
   "pygments_lexer": "ipython3",
   "version": "3.8.6"
  }
 },
 "nbformat": 4,
 "nbformat_minor": 5
}
