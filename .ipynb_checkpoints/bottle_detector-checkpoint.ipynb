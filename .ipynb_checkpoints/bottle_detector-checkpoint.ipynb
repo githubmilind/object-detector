{
 "cells": [
  {
   "cell_type": "code",
   "execution_count": 3,
   "id": "d38c59f1",
   "metadata": {},
   "outputs": [
    {
     "name": "stderr",
     "output_type": "stream",
     "text": [
      "Cloning into 'keras-retinanet'...\n"
     ]
    }
   ],
   "source": [
    "!git clone https://github.com/fizyr/keras-retinanet.git"
   ]
  },
  {
   "cell_type": "code",
   "execution_count": 4,
   "id": "ce55720f",
   "metadata": {},
   "outputs": [
    {
     "name": "stdout",
     "output_type": "stream",
     "text": [
      "Requirement already satisfied: keras in c:\\users\\milind.desktop-gbr1bs2\\appdata\\local\\programs\\python\\python38\\lib\\site-packages (2.4.3)\n",
      "Collecting keras\n",
      "  Downloading keras-2.7.0-py2.py3-none-any.whl (1.3 MB)\n",
      "Installing collected packages: keras\n",
      "  Attempting uninstall: keras\n",
      "    Found existing installation: Keras 2.4.3\n",
      "    Uninstalling Keras-2.4.3:\n",
      "      Successfully uninstalled Keras-2.4.3\n",
      "Successfully installed keras-2.7.0\n"
     ]
    },
    {
     "name": "stderr",
     "output_type": "stream",
     "text": [
      "WARNING: You are using pip version 21.2.4; however, version 21.3.1 is available.\n",
      "You should consider upgrading via the 'c:\\users\\milind.desktop-gbr1bs2\\appdata\\local\\programs\\python\\python38\\python.exe -m pip install --upgrade pip' command.\n"
     ]
    }
   ],
   "source": [
    "!pip install --upgrade keras"
   ]
  },
  {
   "cell_type": "code",
   "execution_count": 5,
   "id": "10e96b27",
   "metadata": {},
   "outputs": [
    {
     "name": "stdout",
     "output_type": "stream",
     "text": [
      "C:\\Users\\Milind.DESKTOP-GBR1BS2\\object-detector\\keras-retinanet\n"
     ]
    }
   ],
   "source": [
    "%cd keras-retinanet"
   ]
  },
  {
   "cell_type": "code",
   "execution_count": 12,
   "id": "e097a92a",
   "metadata": {},
   "outputs": [
    {
     "name": "stdout",
     "output_type": "stream",
     "text": [
      "Processing c:\\users\\milind.desktop-gbr1bs2\\object-detector\\keras-retinanet\n",
      "  Preparing metadata (setup.py): started\n",
      "  Preparing metadata (setup.py): finished with status 'done'\n",
      "Collecting keras-resnet==0.2.0\n",
      "  Downloading keras-resnet-0.2.0.tar.gz (9.3 kB)\n",
      "  Preparing metadata (setup.py): started\n",
      "  Preparing metadata (setup.py): finished with status 'done'\n",
      "Requirement already satisfied: six in c:\\users\\milind.desktop-gbr1bs2\\appdata\\local\\programs\\python\\python38\\lib\\site-packages (from keras-retinanet==1.0.0) (1.15.0)\n",
      "Requirement already satisfied: numpy in c:\\users\\milind.desktop-gbr1bs2\\appdata\\local\\programs\\python\\python38\\lib\\site-packages (from keras-retinanet==1.0.0) (1.21.2)\n",
      "Requirement already satisfied: cython in c:\\users\\milind.desktop-gbr1bs2\\appdata\\local\\programs\\python\\python38\\lib\\site-packages (from keras-retinanet==1.0.0) (0.29.24)\n",
      "Requirement already satisfied: Pillow in c:\\users\\milind.desktop-gbr1bs2\\appdata\\local\\programs\\python\\python38\\lib\\site-packages (from keras-retinanet==1.0.0) (8.2.0)\n",
      "Collecting opencv-python\n",
      "  Downloading opencv_python-4.5.4.60-cp38-cp38-win_amd64.whl (35.1 MB)\n",
      "Collecting progressbar2\n",
      "  Downloading progressbar2-3.55.0-py2.py3-none-any.whl (26 kB)\n",
      "Requirement already satisfied: keras>=2.2.4 in c:\\users\\milind.desktop-gbr1bs2\\appdata\\local\\programs\\python\\python38\\lib\\site-packages (from keras-resnet==0.2.0->keras-retinanet==1.0.0) (2.7.0)\n",
      "Collecting python-utils>=2.3.0\n",
      "  Downloading python_utils-2.5.6-py2.py3-none-any.whl (12 kB)\n",
      "Building wheels for collected packages: keras-retinanet, keras-resnet\n",
      "  Building wheel for keras-retinanet (setup.py): started\n",
      "  Building wheel for keras-retinanet (setup.py): finished with status 'done'\n",
      "  Created wheel for keras-retinanet: filename=keras_retinanet-1.0.0-cp38-cp38-win_amd64.whl size=128655 sha256=f388b629865073d60b0681ad497369ced23147a52b95714d9b609b7679a3d719\n",
      "  Stored in directory: c:\\users\\milind.desktop-gbr1bs2\\appdata\\local\\pip\\cache\\wheels\\6e\\ad\\cc\\2c7fb971522c6cda92e8886e64b62c81f761196d111fbb75b3\n",
      "  Building wheel for keras-resnet (setup.py): started\n",
      "  Building wheel for keras-resnet (setup.py): finished with status 'done'\n",
      "  Created wheel for keras-resnet: filename=keras_resnet-0.2.0-py2.py3-none-any.whl size=20486 sha256=fa4fcb83999a127353ea1ce4a6aea492218b2ec96a6a7e683a301ac62c6e3a1b\n",
      "  Stored in directory: c:\\users\\milind.desktop-gbr1bs2\\appdata\\local\\pip\\cache\\wheels\\be\\90\\98\\9d455f04a7ca277366b36c660c89d171ff5abb7bdd8a8b8e75\n",
      "Successfully built keras-retinanet keras-resnet\n",
      "Installing collected packages: python-utils, progressbar2, opencv-python, keras-resnet, keras-retinanet\n",
      "Successfully installed keras-resnet-0.2.0 keras-retinanet-1.0.0 opencv-python-4.5.4.60 progressbar2-3.55.0 python-utils-2.5.6\n"
     ]
    }
   ],
   "source": [
    "!pip install ."
   ]
  },
  {
   "cell_type": "code",
   "execution_count": 13,
   "id": "5d29df26",
   "metadata": {},
   "outputs": [
    {
     "name": "stdout",
     "output_type": "stream",
     "text": [
      "running build_ext\n",
      "skipping 'keras_retinanet/utils\\compute_overlap.c' Cython extension (up-to-date)\n",
      "copying build\\lib.win-amd64-3.8\\keras_retinanet\\utils\\compute_overlap.cp38-win_amd64.pyd -> keras_retinanet\\utils\n"
     ]
    }
   ],
   "source": [
    "!python setup.py build_ext --inplace"
   ]
  },
  {
   "cell_type": "code",
   "execution_count": 14,
   "id": "d2e17419",
   "metadata": {},
   "outputs": [
    {
     "name": "stdout",
     "output_type": "stream",
     "text": [
      "Collecting gdown\n",
      "  Downloading gdown-4.2.0.tar.gz (13 kB)\n",
      "  Installing build dependencies: started\n",
      "  Installing build dependencies: finished with status 'done'\n",
      "  Getting requirements to build wheel: started\n",
      "  Getting requirements to build wheel: finished with status 'done'\n",
      "  Preparing metadata (pyproject.toml): started\n",
      "  Preparing metadata (pyproject.toml): finished with status 'done'\n",
      "Collecting beautifulsoup4\n",
      "  Downloading beautifulsoup4-4.10.0-py3-none-any.whl (97 kB)\n",
      "Requirement already satisfied: requests[socks] in c:\\users\\milind.desktop-gbr1bs2\\appdata\\local\\programs\\python\\python38\\lib\\site-packages (from gdown) (2.26.0)\n",
      "Collecting filelock\n",
      "  Downloading filelock-3.4.0-py3-none-any.whl (9.8 kB)\n",
      "Collecting tqdm\n",
      "  Using cached tqdm-4.62.3-py2.py3-none-any.whl (76 kB)\n",
      "Requirement already satisfied: six in c:\\users\\milind.desktop-gbr1bs2\\appdata\\local\\programs\\python\\python38\\lib\\site-packages (from gdown) (1.15.0)\n",
      "Collecting soupsieve>1.2\n",
      "  Downloading soupsieve-2.3.1-py3-none-any.whl (37 kB)\n",
      "Requirement already satisfied: urllib3<1.27,>=1.21.1 in c:\\users\\milind.desktop-gbr1bs2\\appdata\\local\\programs\\python\\python38\\lib\\site-packages (from requests[socks]->gdown) (1.26.7)\n",
      "Requirement already satisfied: idna<4,>=2.5 in c:\\users\\milind.desktop-gbr1bs2\\appdata\\local\\programs\\python\\python38\\lib\\site-packages (from requests[socks]->gdown) (3.2)\n",
      "Requirement already satisfied: certifi>=2017.4.17 in c:\\users\\milind.desktop-gbr1bs2\\appdata\\local\\programs\\python\\python38\\lib\\site-packages (from requests[socks]->gdown) (2021.5.30)\n",
      "Requirement already satisfied: charset-normalizer~=2.0.0 in c:\\users\\milind.desktop-gbr1bs2\\appdata\\local\\programs\\python\\python38\\lib\\site-packages (from requests[socks]->gdown) (2.0.6)\n",
      "Collecting PySocks!=1.5.7,>=1.5.6\n",
      "  Downloading PySocks-1.7.1-py3-none-any.whl (16 kB)\n",
      "Requirement already satisfied: colorama in c:\\users\\milind.desktop-gbr1bs2\\appdata\\local\\programs\\python\\python38\\lib\\site-packages (from tqdm->gdown) (0.4.4)\n",
      "Building wheels for collected packages: gdown\n",
      "  Building wheel for gdown (pyproject.toml): started\n",
      "  Building wheel for gdown (pyproject.toml): finished with status 'done'\n",
      "  Created wheel for gdown: filename=gdown-4.2.0-py3-none-any.whl size=14262 sha256=e5b137a7ebb7a1b20e406d3a62c8b07a6f0c5e54ad60ea671a868426e8a9050c\n",
      "  Stored in directory: c:\\users\\milind.desktop-gbr1bs2\\appdata\\local\\pip\\cache\\wheels\\2b\\3c\\51\\52c46deda5cd1d59c6ce3d441ea5f3d155495dc294c4535a25\n",
      "Successfully built gdown\n",
      "Installing collected packages: soupsieve, PySocks, tqdm, filelock, beautifulsoup4, gdown\n",
      "Successfully installed PySocks-1.7.1 beautifulsoup4-4.10.0 filelock-3.4.0 gdown-4.2.0 soupsieve-2.3.1 tqdm-4.62.3\n",
      "Collecting tensorflow-gpu\n",
      "  Downloading tensorflow_gpu-2.7.0-cp38-cp38-win_amd64.whl (430.8 MB)\n",
      "Requirement already satisfied: absl-py>=0.4.0 in c:\\users\\milind.desktop-gbr1bs2\\appdata\\local\\programs\\python\\python38\\lib\\site-packages (from tensorflow-gpu) (0.14.0)\n",
      "Requirement already satisfied: opt-einsum>=2.3.2 in c:\\users\\milind.desktop-gbr1bs2\\appdata\\local\\programs\\python\\python38\\lib\\site-packages (from tensorflow-gpu) (3.3.0)\n",
      "Requirement already satisfied: tensorboard~=2.6 in c:\\users\\milind.desktop-gbr1bs2\\appdata\\local\\programs\\python\\python38\\lib\\site-packages (from tensorflow-gpu) (2.6.0)\n",
      "Requirement already satisfied: keras<2.8,>=2.7.0rc0 in c:\\users\\milind.desktop-gbr1bs2\\appdata\\local\\programs\\python\\python38\\lib\\site-packages (from tensorflow-gpu) (2.7.0)\n",
      "Requirement already satisfied: typing-extensions>=3.6.6 in c:\\users\\milind.desktop-gbr1bs2\\appdata\\local\\programs\\python\\python38\\lib\\site-packages (from tensorflow-gpu) (3.7.4.3)\n",
      "Requirement already satisfied: keras-preprocessing>=1.1.1 in c:\\users\\milind.desktop-gbr1bs2\\appdata\\local\\programs\\python\\python38\\lib\\site-packages (from tensorflow-gpu) (1.1.2)\n",
      "Requirement already satisfied: wrapt>=1.11.0 in c:\\users\\milind.desktop-gbr1bs2\\appdata\\roaming\\python\\python38\\site-packages (from tensorflow-gpu) (1.12.1)\n"
     ]
    },
    {
     "name": "stderr",
     "output_type": "stream",
     "text": [
      "ERROR: pip's dependency resolver does not currently take into account all the packages that are installed. This behaviour is the source of the following dependency conflicts.\n",
      "tensorflow 2.5.0 requires numpy~=1.19.2, but you have numpy 1.21.2 which is incompatible."
     ]
    },
    {
     "name": "stdout",
     "output_type": "stream",
     "text": [
      "Requirement already satisfied: google-pasta>=0.1.1 in c:\\users\\milind.desktop-gbr1bs2\\appdata\\local\\programs\\python\\python38\\lib\\site-packages (from tensorflow-gpu) (0.2.0)\n",
      "Requirement already satisfied: protobuf>=3.9.2 in c:\\users\\milind.desktop-gbr1bs2\\appdata\\local\\programs\\python\\python38\\lib\\site-packages (from tensorflow-gpu) (3.18.0)\n",
      "Requirement already satisfied: termcolor>=1.1.0 in c:\\users\\milind.desktop-gbr1bs2\\appdata\\local\\programs\\python\\python38\\lib\\site-packages (from tensorflow-gpu) (1.1.0)\n",
      "Requirement already satisfied: h5py>=2.9.0 in c:\\users\\milind.desktop-gbr1bs2\\appdata\\local\\programs\\python\\python38\\lib\\site-packages (from tensorflow-gpu) (3.1.0)\n",
      "Requirement already satisfied: grpcio<2.0,>=1.24.3 in c:\\users\\milind.desktop-gbr1bs2\\appdata\\local\\programs\\python\\python38\\lib\\site-packages (from tensorflow-gpu) (1.34.1)\n",
      "Collecting libclang>=9.0.1\n",
      "  Downloading libclang-12.0.0-py2.py3-none-win_amd64.whl (13.1 MB)\n",
      "Requirement already satisfied: six>=1.12.0 in c:\\users\\milind.desktop-gbr1bs2\\appdata\\local\\programs\\python\\python38\\lib\\site-packages (from tensorflow-gpu) (1.15.0)\n",
      "Collecting tensorflow-io-gcs-filesystem>=0.21.0\n",
      "  Downloading tensorflow_io_gcs_filesystem-0.22.0-cp38-cp38-win_amd64.whl (1.5 MB)\n",
      "Requirement already satisfied: flatbuffers<3.0,>=1.12 in c:\\users\\milind.desktop-gbr1bs2\\appdata\\local\\programs\\python\\python38\\lib\\site-packages (from tensorflow-gpu) (1.12)\n",
      "Collecting tensorflow-estimator<2.8,~=2.7.0rc0\n",
      "  Downloading tensorflow_estimator-2.7.0-py2.py3-none-any.whl (463 kB)\n",
      "Requirement already satisfied: wheel<1.0,>=0.32.0 in c:\\users\\milind.desktop-gbr1bs2\\appdata\\local\\programs\\python\\python38\\lib\\site-packages (from tensorflow-gpu) (0.37.0)\n",
      "Requirement already satisfied: gast<0.5.0,>=0.2.1 in c:\\users\\milind.desktop-gbr1bs2\\appdata\\local\\programs\\python\\python38\\lib\\site-packages (from tensorflow-gpu) (0.4.0)\n",
      "Requirement already satisfied: numpy>=1.14.5 in c:\\users\\milind.desktop-gbr1bs2\\appdata\\local\\programs\\python\\python38\\lib\\site-packages (from tensorflow-gpu) (1.21.2)\n",
      "Requirement already satisfied: astunparse>=1.6.0 in c:\\users\\milind.desktop-gbr1bs2\\appdata\\local\\programs\\python\\python38\\lib\\site-packages (from tensorflow-gpu) (1.6.3)\n",
      "Requirement already satisfied: markdown>=2.6.8 in c:\\users\\milind.desktop-gbr1bs2\\appdata\\local\\programs\\python\\python38\\lib\\site-packages (from tensorboard~=2.6->tensorflow-gpu) (3.3.4)\n",
      "Requirement already satisfied: werkzeug>=0.11.15 in c:\\users\\milind.desktop-gbr1bs2\\appdata\\local\\programs\\python\\python38\\lib\\site-packages (from tensorboard~=2.6->tensorflow-gpu) (2.0.1)\n",
      "Requirement already satisfied: tensorboard-data-server<0.7.0,>=0.6.0 in c:\\users\\milind.desktop-gbr1bs2\\appdata\\local\\programs\\python\\python38\\lib\\site-packages (from tensorboard~=2.6->tensorflow-gpu) (0.6.1)\n",
      "Requirement already satisfied: setuptools>=41.0.0 in c:\\users\\milind.desktop-gbr1bs2\\appdata\\local\\programs\\python\\python38\\lib\\site-packages (from tensorboard~=2.6->tensorflow-gpu) (59.4.0)\n",
      "Requirement already satisfied: google-auth-oauthlib<0.5,>=0.4.1 in c:\\users\\milind.desktop-gbr1bs2\\appdata\\local\\programs\\python\\python38\\lib\\site-packages (from tensorboard~=2.6->tensorflow-gpu) (0.4.6)\n",
      "Requirement already satisfied: requests<3,>=2.21.0 in c:\\users\\milind.desktop-gbr1bs2\\appdata\\local\\programs\\python\\python38\\lib\\site-packages (from tensorboard~=2.6->tensorflow-gpu) (2.26.0)\n",
      "Requirement already satisfied: tensorboard-plugin-wit>=1.6.0 in c:\\users\\milind.desktop-gbr1bs2\\appdata\\local\\programs\\python\\python38\\lib\\site-packages (from tensorboard~=2.6->tensorflow-gpu) (1.8.0)\n",
      "Requirement already satisfied: google-auth<2,>=1.6.3 in c:\\users\\milind.desktop-gbr1bs2\\appdata\\local\\programs\\python\\python38\\lib\\site-packages (from tensorboard~=2.6->tensorflow-gpu) (1.35.0)\n",
      "Requirement already satisfied: cachetools<5.0,>=2.0.0 in c:\\users\\milind.desktop-gbr1bs2\\appdata\\local\\programs\\python\\python38\\lib\\site-packages (from google-auth<2,>=1.6.3->tensorboard~=2.6->tensorflow-gpu) (4.2.2)\n",
      "Requirement already satisfied: rsa<5,>=3.1.4 in c:\\users\\milind.desktop-gbr1bs2\\appdata\\local\\programs\\python\\python38\\lib\\site-packages (from google-auth<2,>=1.6.3->tensorboard~=2.6->tensorflow-gpu) (4.7.2)\n",
      "Requirement already satisfied: pyasn1-modules>=0.2.1 in c:\\users\\milind.desktop-gbr1bs2\\appdata\\local\\programs\\python\\python38\\lib\\site-packages (from google-auth<2,>=1.6.3->tensorboard~=2.6->tensorflow-gpu) (0.2.8)\n",
      "Requirement already satisfied: requests-oauthlib>=0.7.0 in c:\\users\\milind.desktop-gbr1bs2\\appdata\\local\\programs\\python\\python38\\lib\\site-packages (from google-auth-oauthlib<0.5,>=0.4.1->tensorboard~=2.6->tensorflow-gpu) (1.3.0)\n",
      "Requirement already satisfied: idna<4,>=2.5 in c:\\users\\milind.desktop-gbr1bs2\\appdata\\local\\programs\\python\\python38\\lib\\site-packages (from requests<3,>=2.21.0->tensorboard~=2.6->tensorflow-gpu) (3.2)\n",
      "Requirement already satisfied: charset-normalizer~=2.0.0 in c:\\users\\milind.desktop-gbr1bs2\\appdata\\local\\programs\\python\\python38\\lib\\site-packages (from requests<3,>=2.21.0->tensorboard~=2.6->tensorflow-gpu) (2.0.6)\n",
      "Requirement already satisfied: certifi>=2017.4.17 in c:\\users\\milind.desktop-gbr1bs2\\appdata\\local\\programs\\python\\python38\\lib\\site-packages (from requests<3,>=2.21.0->tensorboard~=2.6->tensorflow-gpu) (2021.5.30)\n",
      "Requirement already satisfied: urllib3<1.27,>=1.21.1 in c:\\users\\milind.desktop-gbr1bs2\\appdata\\local\\programs\\python\\python38\\lib\\site-packages (from requests<3,>=2.21.0->tensorboard~=2.6->tensorflow-gpu) (1.26.7)\n",
      "Requirement already satisfied: pyasn1<0.5.0,>=0.4.6 in c:\\users\\milind.desktop-gbr1bs2\\appdata\\local\\programs\\python\\python38\\lib\\site-packages (from pyasn1-modules>=0.2.1->google-auth<2,>=1.6.3->tensorboard~=2.6->tensorflow-gpu) (0.4.8)\n",
      "Requirement already satisfied: oauthlib>=3.0.0 in c:\\users\\milind.desktop-gbr1bs2\\appdata\\local\\programs\\python\\python38\\lib\\site-packages (from requests-oauthlib>=0.7.0->google-auth-oauthlib<0.5,>=0.4.1->tensorboard~=2.6->tensorflow-gpu) (3.1.1)\n",
      "Installing collected packages: tensorflow-io-gcs-filesystem, tensorflow-estimator, libclang, tensorflow-gpu\n",
      "  Attempting uninstall: tensorflow-estimator\n",
      "    Found existing installation: tensorflow-estimator 2.5.0\n",
      "    Uninstalling tensorflow-estimator-2.5.0:\n",
      "      Successfully uninstalled tensorflow-estimator-2.5.0\n",
      "Successfully installed libclang-12.0.0 tensorflow-estimator-2.7.0 tensorflow-gpu-2.7.0 tensorflow-io-gcs-filesystem-0.22.0\n"
     ]
    },
    {
     "name": "stderr",
     "output_type": "stream",
     "text": [
      "\n",
      "tensorflow 2.5.0 requires tensorflow-estimator<2.6.0,>=2.5.0rc0, but you have tensorflow-estimator 2.7.0 which is incompatible.\n"
     ]
    }
   ],
   "source": [
    "!pip install gdown\n",
    "!pip install tensorflow-gpu"
   ]
  },
  {
   "cell_type": "code",
   "execution_count": 15,
   "id": "38b8913b",
   "metadata": {},
   "outputs": [],
   "source": [
    "import numpy as np\n",
    "import tensorflow as tf\n",
    "from tensorflow import keras\n",
    "import pandas as pd\n",
    "import seaborn as sns\n",
    "from pylab import rcParams\n",
    "import matplotlib.pyplot as plt\n",
    "from matplotlib import rc\n",
    "from pandas.plotting import register_matplotlib_converters\n",
    "from sklearn.model_selection import train_test_split\n",
    "import urllib\n",
    "import os\n",
    "import csv\n",
    "import cv2\n",
    "import time\n",
    "from PIL import Image\n",
    "\n",
    "from keras_retinanet import models\n",
    "from keras_retinanet.utils.image import read_image_bgr, preprocess_image, resize_image\n",
    "from keras_retinanet.utils.visualization import draw_box, draw_caption\n",
    "from keras_retinanet.utils.colors import label_color"
   ]
  },
  {
   "cell_type": "code",
   "execution_count": 16,
   "id": "f9a7c331",
   "metadata": {},
   "outputs": [],
   "source": [
    "%matplotlib inline\n",
    "%config InlineBackend.figure_format='retina'\n",
    "\n",
    "register_matplotlib_converters()\n",
    "sns.set(style='whitegrid', palette='muted', font_scale=1.5)\n",
    "\n",
    "rcParams['figure.figsize'] = 22, 10\n",
    "\n",
    "RANDOM_SEED = 42\n",
    "\n",
    "np.random.seed(RANDOM_SEED)\n",
    "tf.random.set_seed(RANDOM_SEED)"
   ]
  },
  {
   "cell_type": "code",
   "execution_count": 17,
   "id": "5c4d9465",
   "metadata": {
    "scrolled": true
   },
   "outputs": [
    {
     "name": "stderr",
     "output_type": "stream",
     "text": [
      "Downloading...\n",
      "From: https://drive.google.com/uc?id=1mTtB8GTWs74Yeqm0KMExGJZh1eDbzUlT\n",
      "To: C:\\Users\\Milind.DESKTOP-GBR1BS2\\object-detector\\keras-retinanet\\indian_number_plates.json\n",
      "\n",
      "  0%|          | 0.00/92.5k [00:00<?, ?B/s]\n",
      "100%|##########| 92.5k/92.5k [00:00<00:00, 23.2MB/s]\n"
     ]
    }
   ],
   "source": [
    "!gdown --id 1mTtB8GTWs74Yeqm0KMExGJZh1eDbzUlT --output indian_number_plates.json"
   ]
  },
  {
   "cell_type": "code",
   "execution_count": 18,
   "id": "b8a02409",
   "metadata": {},
   "outputs": [],
   "source": [
    "os.makedirs(\"snapshots\", exist_ok=True)"
   ]
  },
  {
   "cell_type": "code",
   "execution_count": 19,
   "id": "5efba0ee",
   "metadata": {},
   "outputs": [
    {
     "name": "stderr",
     "output_type": "stream",
     "text": [
      "Downloading...\n",
      "From: https://drive.google.com/uc?id=1wPgOBoSks6bTIs9RzNvZf6HWROkciS8R\n",
      "To: C:\\Users\\Milind.DESKTOP-GBR1BS2\\object-detector\\keras-retinanet\\snapshots\\resnet50_csv_10.h5\n",
      "\n",
      "  0%|          | 0.00/249M [00:00<?, ?B/s]\n",
      "  0%|          | 524k/249M [00:00<00:49, 4.97MB/s]\n",
      "  1%|          | 1.57M/249M [00:00<00:43, 5.72MB/s]\n",
      "  1%|1         | 2.62M/249M [00:00<00:45, 5.37MB/s]\n",
      "  1%|1         | 3.67M/249M [00:00<00:43, 5.60MB/s]\n",
      "  2%|1         | 4.72M/249M [00:00<00:43, 5.56MB/s]\n",
      "  2%|2         | 5.77M/249M [00:01<00:41, 5.85MB/s]\n",
      "  3%|2         | 6.82M/249M [00:01<00:40, 6.01MB/s]\n",
      "  3%|3         | 7.86M/249M [00:01<00:40, 5.93MB/s]\n",
      "  4%|3         | 8.91M/249M [00:01<00:39, 6.01MB/s]\n",
      "  4%|4         | 9.96M/249M [00:01<00:40, 5.91MB/s]\n",
      "  4%|4         | 11.0M/249M [00:01<00:39, 5.96MB/s]\n",
      "  5%|4         | 12.1M/249M [00:02<00:40, 5.88MB/s]\n",
      "  5%|5         | 13.1M/249M [00:02<00:40, 5.79MB/s]\n",
      "  6%|5         | 14.2M/249M [00:02<00:39, 5.96MB/s]\n",
      "  6%|6         | 15.2M/249M [00:02<00:40, 5.82MB/s]\n",
      "  7%|6         | 16.3M/249M [00:02<00:39, 5.88MB/s]\n",
      "  7%|6         | 17.3M/249M [00:02<00:38, 6.01MB/s]\n",
      "  7%|7         | 18.4M/249M [00:03<00:38, 6.04MB/s]\n",
      "  8%|7         | 19.4M/249M [00:03<00:37, 6.15MB/s]\n",
      "  8%|8         | 20.4M/249M [00:03<00:37, 6.01MB/s]\n",
      "  9%|8         | 21.5M/249M [00:03<00:37, 6.13MB/s]\n",
      "  9%|9         | 22.5M/249M [00:03<00:36, 6.22MB/s]\n",
      "  9%|9         | 23.6M/249M [00:03<00:37, 6.04MB/s]\n",
      " 10%|9         | 24.6M/249M [00:04<00:37, 6.00MB/s]\n",
      " 10%|#         | 25.7M/249M [00:04<00:40, 5.51MB/s]\n",
      " 11%|#         | 26.7M/249M [00:04<00:43, 5.06MB/s]\n",
      " 11%|#1        | 27.8M/249M [00:04<00:42, 5.25MB/s]\n",
      " 12%|#1        | 28.8M/249M [00:04<00:39, 5.53MB/s]\n",
      " 12%|#2        | 29.9M/249M [00:05<00:38, 5.62MB/s]\n",
      " 12%|#2        | 30.9M/249M [00:05<00:37, 5.75MB/s]\n",
      " 13%|#2        | 32.0M/249M [00:05<00:36, 5.94MB/s]\n",
      " 13%|#3        | 33.0M/249M [00:05<00:34, 6.17MB/s]\n",
      " 14%|#3        | 34.1M/249M [00:05<00:34, 6.15MB/s]\n",
      " 14%|#4        | 35.1M/249M [00:05<00:35, 6.09MB/s]\n",
      " 15%|#4        | 36.2M/249M [00:06<00:34, 6.24MB/s]\n",
      " 15%|#4        | 37.2M/249M [00:06<00:33, 6.26MB/s]\n",
      " 15%|#5        | 38.3M/249M [00:06<00:33, 6.22MB/s]\n",
      " 16%|#5        | 39.3M/249M [00:06<00:33, 6.16MB/s]\n",
      " 16%|#6        | 40.4M/249M [00:06<00:34, 6.11MB/s]\n",
      " 17%|#6        | 41.4M/249M [00:07<00:35, 5.91MB/s]\n",
      " 17%|#7        | 42.5M/249M [00:07<00:34, 6.06MB/s]\n",
      " 17%|#7        | 43.5M/249M [00:07<00:33, 6.04MB/s]\n",
      " 18%|#7        | 44.6M/249M [00:07<00:32, 6.23MB/s]\n",
      " 18%|#8        | 45.6M/249M [00:07<00:32, 6.16MB/s]\n",
      " 19%|#8        | 46.7M/249M [00:07<00:32, 6.29MB/s]\n",
      " 19%|#9        | 47.7M/249M [00:08<00:33, 6.00MB/s]\n",
      " 20%|#9        | 48.8M/249M [00:08<00:34, 5.80MB/s]\n",
      " 20%|##        | 49.8M/249M [00:08<00:33, 5.93MB/s]\n",
      " 20%|##        | 50.9M/249M [00:08<00:33, 5.93MB/s]\n",
      " 21%|##        | 51.9M/249M [00:08<00:32, 6.01MB/s]\n",
      " 21%|##1       | 53.0M/249M [00:08<00:33, 5.89MB/s]\n",
      " 22%|##1       | 54.0M/249M [00:09<00:32, 6.00MB/s]\n",
      " 22%|##2       | 55.1M/249M [00:09<00:31, 6.21MB/s]\n",
      " 23%|##2       | 56.1M/249M [00:09<00:31, 6.08MB/s]\n",
      " 23%|##2       | 57.1M/249M [00:09<00:33, 5.66MB/s]\n",
      " 23%|##3       | 58.2M/249M [00:09<00:31, 5.96MB/s]\n",
      " 24%|##3       | 59.2M/249M [00:09<00:31, 6.03MB/s]\n",
      " 24%|##4       | 60.3M/249M [00:10<00:29, 6.35MB/s]\n",
      " 25%|##4       | 61.3M/249M [00:10<00:32, 5.70MB/s]\n",
      " 25%|##5       | 62.4M/249M [00:10<00:31, 5.85MB/s]\n",
      " 26%|##5       | 63.4M/249M [00:10<00:31, 5.89MB/s]\n",
      " 26%|##5       | 64.5M/249M [00:10<00:30, 6.08MB/s]\n",
      " 26%|##6       | 65.5M/249M [00:11<00:30, 6.10MB/s]\n",
      " 27%|##6       | 66.6M/249M [00:11<00:29, 6.10MB/s]\n",
      " 27%|##7       | 67.6M/249M [00:11<00:28, 6.26MB/s]\n",
      " 28%|##7       | 68.7M/249M [00:11<00:28, 6.22MB/s]\n",
      " 28%|##8       | 69.7M/249M [00:11<00:28, 6.31MB/s]\n",
      " 28%|##8       | 70.8M/249M [00:11<00:28, 6.32MB/s]\n",
      " 29%|##8       | 71.8M/249M [00:12<00:28, 6.27MB/s]\n",
      " 29%|##9       | 72.9M/249M [00:12<00:28, 6.10MB/s]\n",
      " 30%|##9       | 73.9M/249M [00:12<00:29, 5.94MB/s]\n",
      " 30%|###       | 75.0M/249M [00:12<00:28, 6.00MB/s]\n",
      " 31%|###       | 76.0M/249M [00:12<00:29, 5.91MB/s]\n",
      " 31%|###       | 77.1M/249M [00:12<00:28, 5.98MB/s]\n",
      " 31%|###1      | 78.1M/249M [00:13<00:28, 5.91MB/s]\n",
      " 32%|###1      | 79.2M/249M [00:13<00:28, 5.93MB/s]\n",
      " 32%|###2      | 80.2M/249M [00:13<00:27, 6.02MB/s]\n",
      " 33%|###2      | 81.3M/249M [00:13<00:27, 6.06MB/s]\n",
      " 33%|###3      | 82.3M/249M [00:13<00:27, 6.13MB/s]\n",
      " 34%|###3      | 83.4M/249M [00:13<00:26, 6.29MB/s]\n",
      " 34%|###3      | 84.4M/249M [00:14<00:33, 4.96MB/s]\n",
      " 34%|###4      | 85.5M/249M [00:14<00:30, 5.27MB/s]\n",
      " 35%|###4      | 86.5M/249M [00:14<00:29, 5.54MB/s]\n",
      " 35%|###5      | 87.6M/249M [00:14<00:29, 5.50MB/s]\n",
      " 36%|###5      | 88.6M/249M [00:14<00:27, 5.73MB/s]\n",
      " 36%|###6      | 89.7M/249M [00:15<00:28, 5.66MB/s]\n",
      " 36%|###6      | 90.7M/249M [00:15<00:27, 5.84MB/s]\n",
      " 37%|###6      | 91.8M/249M [00:15<00:26, 5.95MB/s]\n",
      " 37%|###7      | 92.8M/249M [00:15<00:25, 6.11MB/s]\n",
      " 38%|###7      | 93.8M/249M [00:15<00:25, 6.18MB/s]\n",
      " 38%|###8      | 94.9M/249M [00:15<00:25, 6.11MB/s]\n",
      " 39%|###8      | 95.9M/249M [00:16<00:25, 6.07MB/s]\n",
      " 39%|###8      | 97.0M/249M [00:16<00:24, 6.21MB/s]\n",
      " 39%|###9      | 98.0M/249M [00:16<00:24, 6.11MB/s]\n",
      " 40%|###9      | 99.1M/249M [00:16<00:24, 6.23MB/s]\n",
      " 40%|####      | 100M/249M [00:16<00:24, 6.03MB/s] \n",
      " 41%|####      | 101M/249M [00:17<00:24, 5.92MB/s]\n",
      " 41%|####1     | 102M/249M [00:17<00:25, 5.85MB/s]\n",
      " 42%|####1     | 103M/249M [00:17<00:25, 5.70MB/s]\n",
      " 42%|####1     | 104M/249M [00:17<00:25, 5.67MB/s]\n",
      " 42%|####2     | 105M/249M [00:17<00:24, 5.92MB/s]\n",
      " 43%|####2     | 106M/249M [00:17<00:23, 6.13MB/s]\n",
      " 43%|####3     | 107M/249M [00:18<00:22, 6.19MB/s]\n",
      " 44%|####3     | 109M/249M [00:18<00:22, 6.25MB/s]\n",
      " 44%|####4     | 110M/249M [00:18<00:22, 6.23MB/s]\n",
      " 44%|####4     | 111M/249M [00:18<00:22, 6.14MB/s]\n",
      " 45%|####4     | 112M/249M [00:18<00:21, 6.23MB/s]\n",
      " 45%|####5     | 113M/249M [00:18<00:21, 6.23MB/s]\n",
      " 46%|####5     | 114M/249M [00:19<00:20, 6.44MB/s]\n",
      " 46%|####6     | 115M/249M [00:19<00:20, 6.45MB/s]\n",
      " 47%|####6     | 116M/249M [00:19<00:25, 5.17MB/s]\n",
      " 47%|####7     | 117M/249M [00:19<00:23, 5.51MB/s]\n",
      " 47%|####7     | 118M/249M [00:19<00:22, 5.70MB/s]\n",
      " 48%|####7     | 119M/249M [00:20<00:22, 5.78MB/s]\n",
      " 48%|####8     | 120M/249M [00:20<00:21, 5.93MB/s]\n",
      " 49%|####8     | 121M/249M [00:20<00:21, 6.06MB/s]\n",
      " 49%|####9     | 122M/249M [00:20<00:21, 5.95MB/s]\n",
      " 50%|####9     | 123M/249M [00:20<00:21, 5.83MB/s]\n",
      " 50%|####9     | 124M/249M [00:20<00:22, 5.50MB/s]\n",
      " 50%|#####     | 125M/249M [00:21<00:21, 5.81MB/s]\n",
      " 51%|#####     | 126M/249M [00:21<00:20, 5.91MB/s]\n",
      " 51%|#####1    | 127M/249M [00:21<00:20, 6.06MB/s]\n",
      " 52%|#####1    | 128M/249M [00:21<00:20, 5.86MB/s]\n",
      " 52%|#####2    | 129M/249M [00:21<00:19, 5.99MB/s]\n",
      " 52%|#####2    | 131M/249M [00:21<00:19, 6.20MB/s]\n",
      " 53%|#####2    | 132M/249M [00:22<00:20, 5.73MB/s]\n",
      " 53%|#####3    | 133M/249M [00:22<00:20, 5.60MB/s]\n",
      " 54%|#####3    | 134M/249M [00:22<00:20, 5.57MB/s]\n",
      " 54%|#####4    | 135M/249M [00:22<00:20, 5.54MB/s]\n",
      " 55%|#####4    | 136M/249M [00:22<00:20, 5.39MB/s]\n",
      " 55%|#####5    | 137M/249M [00:23<00:19, 5.68MB/s]\n",
      " 55%|#####5    | 138M/249M [00:23<00:19, 5.65MB/s]\n",
      " 56%|#####5    | 139M/249M [00:23<00:18, 5.86MB/s]\n",
      " 56%|#####6    | 140M/249M [00:23<00:17, 6.04MB/s]\n",
      " 57%|#####6    | 141M/249M [00:23<00:17, 6.11MB/s]\n",
      " 57%|#####7    | 142M/249M [00:23<00:17, 6.05MB/s]\n",
      " 58%|#####7    | 143M/249M [00:24<00:17, 6.12MB/s]\n",
      " 58%|#####7    | 144M/249M [00:24<00:17, 6.13MB/s]\n",
      " 58%|#####8    | 145M/249M [00:24<00:16, 6.30MB/s]\n",
      " 59%|#####8    | 146M/249M [00:24<00:20, 4.92MB/s]\n",
      " 59%|#####9    | 147M/249M [00:24<00:19, 5.19MB/s]\n",
      " 60%|#####9    | 148M/249M [00:25<00:18, 5.46MB/s]\n",
      " 60%|######    | 149M/249M [00:25<00:17, 5.58MB/s]\n",
      " 60%|######    | 150M/249M [00:25<00:17, 5.64MB/s]\n",
      " 61%|######    | 152M/249M [00:25<00:17, 5.65MB/s]\n",
      " 61%|######1   | 153M/249M [00:25<00:16, 5.73MB/s]\n",
      " 62%|######1   | 154M/249M [00:26<00:16, 5.65MB/s]\n",
      " 62%|######2   | 155M/249M [00:26<00:16, 5.72MB/s]\n",
      " 63%|######2   | 156M/249M [00:26<00:15, 5.96MB/s]\n",
      " 63%|######3   | 157M/249M [00:26<00:15, 5.95MB/s]\n",
      " 63%|######3   | 158M/249M [00:26<00:15, 6.06MB/s]\n",
      " 64%|######3   | 159M/249M [00:26<00:14, 6.21MB/s]\n",
      " 64%|######4   | 160M/249M [00:27<00:14, 6.28MB/s]\n",
      " 65%|######4   | 161M/249M [00:27<00:13, 6.41MB/s]\n",
      " 65%|######5   | 162M/249M [00:27<00:13, 6.38MB/s]\n",
      " 66%|######5   | 163M/249M [00:27<00:13, 6.25MB/s]\n",
      " 66%|######5   | 164M/249M [00:27<00:13, 6.25MB/s]\n",
      " 66%|######6   | 165M/249M [00:27<00:13, 6.21MB/s]\n",
      " 67%|######6   | 166M/249M [00:28<00:13, 6.24MB/s]\n",
      " 67%|######7   | 167M/249M [00:28<00:13, 6.16MB/s]\n",
      " 68%|######7   | 168M/249M [00:28<00:13, 6.17MB/s]\n",
      " 68%|######8   | 169M/249M [00:28<00:13, 6.06MB/s]\n",
      " 69%|######8   | 170M/249M [00:28<00:12, 6.19MB/s]\n",
      " 69%|######8   | 171M/249M [00:28<00:12, 6.24MB/s]\n",
      " 69%|######9   | 172M/249M [00:29<00:12, 6.23MB/s]\n",
      " 70%|######9   | 174M/249M [00:29<00:11, 6.27MB/s]\n",
      " 70%|#######   | 175M/249M [00:29<00:11, 6.18MB/s]\n",
      " 71%|#######   | 176M/249M [00:29<00:11, 6.27MB/s]\n",
      " 71%|#######1  | 177M/249M [00:29<00:11, 6.24MB/s]\n",
      " 71%|#######1  | 178M/249M [00:29<00:11, 6.26MB/s]\n",
      " 72%|#######1  | 179M/249M [00:30<00:11, 6.20MB/s]\n",
      " 72%|#######2  | 180M/249M [00:30<00:11, 6.22MB/s]\n",
      " 73%|#######2  | 181M/249M [00:30<00:11, 5.97MB/s]\n",
      " 73%|#######3  | 182M/249M [00:30<00:11, 5.87MB/s]\n",
      " 74%|#######3  | 183M/249M [00:30<00:10, 6.06MB/s]\n",
      " 74%|#######3  | 184M/249M [00:30<00:10, 6.25MB/s]\n",
      " 74%|#######4  | 185M/249M [00:31<00:12, 4.91MB/s]\n",
      " 75%|#######4  | 186M/249M [00:31<00:12, 4.97MB/s]\n",
      " 75%|#######5  | 187M/249M [00:31<00:11, 5.23MB/s]\n",
      " 76%|#######5  | 188M/249M [00:31<00:11, 5.39MB/s]\n",
      " 76%|#######6  | 189M/249M [00:31<00:10, 5.57MB/s]\n",
      " 77%|#######6  | 190M/249M [00:32<00:10, 5.58MB/s]\n",
      " 77%|#######6  | 191M/249M [00:32<00:10, 5.63MB/s]\n",
      " 77%|#######7  | 192M/249M [00:32<00:09, 5.87MB/s]\n",
      " 78%|#######7  | 193M/249M [00:32<00:09, 5.94MB/s]\n",
      " 78%|#######8  | 195M/249M [00:32<00:09, 5.97MB/s]\n",
      " 79%|#######8  | 196M/249M [00:33<00:08, 6.03MB/s]\n",
      " 79%|#######9  | 197M/249M [00:33<00:08, 6.04MB/s]\n",
      " 79%|#######9  | 198M/249M [00:33<00:08, 6.01MB/s]\n",
      " 80%|#######9  | 199M/249M [00:33<00:08, 6.04MB/s]\n",
      " 80%|########  | 200M/249M [00:33<00:07, 6.19MB/s]\n",
      " 81%|########  | 201M/249M [00:33<00:07, 6.29MB/s]\n",
      " 81%|########1 | 202M/249M [00:34<00:07, 6.33MB/s]\n",
      " 82%|########1 | 203M/249M [00:34<00:07, 6.14MB/s]\n",
      " 82%|########1 | 204M/249M [00:34<00:07, 6.24MB/s]\n",
      " 82%|########2 | 205M/249M [00:34<00:06, 6.26MB/s]\n",
      " 83%|########2 | 206M/249M [00:34<00:06, 6.24MB/s]\n",
      " 83%|########3 | 207M/249M [00:34<00:06, 6.28MB/s]\n",
      " 84%|########3 | 208M/249M [00:35<00:06, 6.22MB/s]\n",
      " 84%|########4 | 209M/249M [00:35<00:06, 6.08MB/s]\n",
      " 85%|########4 | 210M/249M [00:35<00:06, 6.14MB/s]\n",
      " 85%|########4 | 211M/249M [00:35<00:06, 5.97MB/s]\n",
      " 85%|########5 | 212M/249M [00:35<00:06, 6.03MB/s]\n",
      " 86%|########5 | 213M/249M [00:35<00:05, 6.05MB/s]\n",
      " 86%|########6 | 214M/249M [00:36<00:05, 6.27MB/s]\n",
      " 87%|########6 | 215M/249M [00:36<00:06, 5.30MB/s]\n",
      " 87%|########7 | 217M/249M [00:36<00:06, 5.27MB/s]\n",
      " 87%|########7 | 218M/249M [00:36<00:05, 5.43MB/s]\n",
      " 88%|########7 | 219M/249M [00:36<00:05, 5.67MB/s]\n",
      " 88%|########8 | 220M/249M [00:37<00:04, 5.84MB/s]\n",
      " 89%|########8 | 221M/249M [00:37<00:04, 6.09MB/s]\n",
      " 89%|########9 | 222M/249M [00:37<00:04, 6.26MB/s]\n",
      " 90%|########9 | 223M/249M [00:37<00:04, 6.25MB/s]\n",
      " 90%|######### | 224M/249M [00:37<00:04, 5.83MB/s]\n",
      " 90%|######### | 225M/249M [00:37<00:04, 5.93MB/s]\n",
      " 91%|######### | 226M/249M [00:38<00:03, 5.83MB/s]\n",
      " 91%|#########1| 227M/249M [00:38<00:03, 5.92MB/s]\n",
      " 92%|#########1| 228M/249M [00:38<00:03, 5.98MB/s]\n",
      " 92%|#########2| 229M/249M [00:38<00:03, 6.05MB/s]\n",
      " 93%|#########2| 230M/249M [00:38<00:02, 6.23MB/s]\n",
      " 93%|#########2| 231M/249M [00:38<00:02, 5.84MB/s]\n",
      " 93%|#########3| 232M/249M [00:39<00:02, 6.02MB/s]\n",
      " 94%|#########3| 233M/249M [00:39<00:02, 5.53MB/s]\n",
      " 94%|#########4| 234M/249M [00:39<00:02, 5.73MB/s]\n",
      " 95%|#########4| 235M/249M [00:39<00:02, 5.82MB/s]\n",
      " 95%|#########5| 236M/249M [00:39<00:02, 6.05MB/s]\n",
      " 95%|#########5| 238M/249M [00:40<00:01, 6.13MB/s]\n",
      " 96%|#########5| 239M/249M [00:40<00:01, 6.08MB/s]\n",
      " 96%|#########6| 240M/249M [00:40<00:01, 6.10MB/s]\n",
      " 97%|#########6| 241M/249M [00:40<00:01, 5.83MB/s]\n",
      " 97%|#########7| 242M/249M [00:40<00:01, 5.92MB/s]\n",
      " 98%|#########7| 243M/249M [00:40<00:01, 5.85MB/s]\n",
      " 98%|#########8| 244M/249M [00:41<00:00, 5.73MB/s]\n",
      " 98%|#########8| 245M/249M [00:41<00:00, 5.74MB/s]\n",
      " 99%|#########8| 246M/249M [00:41<00:00, 5.93MB/s]\n",
      " 99%|#########9| 247M/249M [00:41<00:00, 4.67MB/s]\n",
      "100%|#########9| 248M/249M [00:42<00:00, 4.92MB/s]\n",
      "100%|##########| 249M/249M [00:42<00:00, 5.19MB/s]\n",
      "100%|##########| 249M/249M [00:42<00:00, 5.90MB/s]\n"
     ]
    }
   ],
   "source": [
    "!gdown --id 1wPgOBoSks6bTIs9RzNvZf6HWROkciS8R --output snapshots/resnet50_csv_10.h5"
   ]
  },
  {
   "cell_type": "code",
   "execution_count": 20,
   "id": "863cbf91",
   "metadata": {},
   "outputs": [],
   "source": [
    "plates_df = pd.read_json('indian_number_plates.json', lines=True)"
   ]
  },
  {
   "cell_type": "code",
   "execution_count": 21,
   "id": "ad441677",
   "metadata": {},
   "outputs": [],
   "source": [
    "os.makedirs(\"number_plates\", exist_ok=True)"
   ]
  },
  {
   "cell_type": "code",
   "execution_count": 24,
   "id": "8f08d3fb",
   "metadata": {},
   "outputs": [
    {
     "name": "stdout",
     "output_type": "stream",
     "text": [
      "http://com.dataturks.a96-i23.open.s3.amazonaws.com/2c9fafb0646e9cf9016473f1a561002a/77d1f81a-bee6-487c-aff2-0efa31a9925c____bd7f7862-d727-11e7-ad30-e18a56154311.jpg.jpeg\n"
     ]
    },
    {
     "ename": "HTTPError",
     "evalue": "HTTP Error 403: Forbidden",
     "output_type": "error",
     "traceback": [
      "\u001b[1;31m---------------------------------------------------------------------------\u001b[0m",
      "\u001b[1;31mHTTPError\u001b[0m                                 Traceback (most recent call last)",
      "\u001b[1;32m<ipython-input-24-78ca7580629a>\u001b[0m in \u001b[0;36m<module>\u001b[1;34m\u001b[0m\n\u001b[0;32m     10\u001b[0m \u001b[1;32mfor\u001b[0m \u001b[0mindex\u001b[0m\u001b[1;33m,\u001b[0m \u001b[0mrow\u001b[0m \u001b[1;32min\u001b[0m \u001b[0mplates_df\u001b[0m\u001b[1;33m.\u001b[0m\u001b[0miterrows\u001b[0m\u001b[1;33m(\u001b[0m\u001b[1;33m)\u001b[0m\u001b[1;33m:\u001b[0m\u001b[1;33m\u001b[0m\u001b[1;33m\u001b[0m\u001b[0m\n\u001b[0;32m     11\u001b[0m     \u001b[0mprint\u001b[0m\u001b[1;33m(\u001b[0m\u001b[0mrow\u001b[0m\u001b[1;33m[\u001b[0m\u001b[1;34m\"content\"\u001b[0m\u001b[1;33m]\u001b[0m\u001b[1;33m)\u001b[0m\u001b[1;33m\u001b[0m\u001b[1;33m\u001b[0m\u001b[0m\n\u001b[1;32m---> 12\u001b[1;33m     \u001b[0mimg\u001b[0m \u001b[1;33m=\u001b[0m \u001b[0murllib\u001b[0m\u001b[1;33m.\u001b[0m\u001b[0mrequest\u001b[0m\u001b[1;33m.\u001b[0m\u001b[0murlopen\u001b[0m\u001b[1;33m(\u001b[0m\u001b[0mrow\u001b[0m\u001b[1;33m[\u001b[0m\u001b[1;34m\"content\"\u001b[0m\u001b[1;33m]\u001b[0m\u001b[1;33m)\u001b[0m\u001b[1;33m\u001b[0m\u001b[1;33m\u001b[0m\u001b[0m\n\u001b[0m\u001b[0;32m     13\u001b[0m     \u001b[0mimg\u001b[0m \u001b[1;33m=\u001b[0m \u001b[0mImage\u001b[0m\u001b[1;33m.\u001b[0m\u001b[0mopen\u001b[0m\u001b[1;33m(\u001b[0m\u001b[0mimg\u001b[0m\u001b[1;33m)\u001b[0m\u001b[1;33m\u001b[0m\u001b[1;33m\u001b[0m\u001b[0m\n\u001b[0;32m     14\u001b[0m     \u001b[0mimg\u001b[0m \u001b[1;33m=\u001b[0m \u001b[0mimg\u001b[0m\u001b[1;33m.\u001b[0m\u001b[0mconvert\u001b[0m\u001b[1;33m(\u001b[0m\u001b[1;34m'RGB'\u001b[0m\u001b[1;33m)\u001b[0m\u001b[1;33m\u001b[0m\u001b[1;33m\u001b[0m\u001b[0m\n",
      "\u001b[1;32mc:\\users\\milind.desktop-gbr1bs2\\appdata\\local\\programs\\python\\python38\\lib\\urllib\\request.py\u001b[0m in \u001b[0;36murlopen\u001b[1;34m(url, data, timeout, cafile, capath, cadefault, context)\u001b[0m\n\u001b[0;32m    220\u001b[0m     \u001b[1;32melse\u001b[0m\u001b[1;33m:\u001b[0m\u001b[1;33m\u001b[0m\u001b[1;33m\u001b[0m\u001b[0m\n\u001b[0;32m    221\u001b[0m         \u001b[0mopener\u001b[0m \u001b[1;33m=\u001b[0m \u001b[0m_opener\u001b[0m\u001b[1;33m\u001b[0m\u001b[1;33m\u001b[0m\u001b[0m\n\u001b[1;32m--> 222\u001b[1;33m     \u001b[1;32mreturn\u001b[0m \u001b[0mopener\u001b[0m\u001b[1;33m.\u001b[0m\u001b[0mopen\u001b[0m\u001b[1;33m(\u001b[0m\u001b[0murl\u001b[0m\u001b[1;33m,\u001b[0m \u001b[0mdata\u001b[0m\u001b[1;33m,\u001b[0m \u001b[0mtimeout\u001b[0m\u001b[1;33m)\u001b[0m\u001b[1;33m\u001b[0m\u001b[1;33m\u001b[0m\u001b[0m\n\u001b[0m\u001b[0;32m    223\u001b[0m \u001b[1;33m\u001b[0m\u001b[0m\n\u001b[0;32m    224\u001b[0m \u001b[1;32mdef\u001b[0m \u001b[0minstall_opener\u001b[0m\u001b[1;33m(\u001b[0m\u001b[0mopener\u001b[0m\u001b[1;33m)\u001b[0m\u001b[1;33m:\u001b[0m\u001b[1;33m\u001b[0m\u001b[1;33m\u001b[0m\u001b[0m\n",
      "\u001b[1;32mc:\\users\\milind.desktop-gbr1bs2\\appdata\\local\\programs\\python\\python38\\lib\\urllib\\request.py\u001b[0m in \u001b[0;36mopen\u001b[1;34m(self, fullurl, data, timeout)\u001b[0m\n\u001b[0;32m    529\u001b[0m         \u001b[1;32mfor\u001b[0m \u001b[0mprocessor\u001b[0m \u001b[1;32min\u001b[0m \u001b[0mself\u001b[0m\u001b[1;33m.\u001b[0m\u001b[0mprocess_response\u001b[0m\u001b[1;33m.\u001b[0m\u001b[0mget\u001b[0m\u001b[1;33m(\u001b[0m\u001b[0mprotocol\u001b[0m\u001b[1;33m,\u001b[0m \u001b[1;33m[\u001b[0m\u001b[1;33m]\u001b[0m\u001b[1;33m)\u001b[0m\u001b[1;33m:\u001b[0m\u001b[1;33m\u001b[0m\u001b[1;33m\u001b[0m\u001b[0m\n\u001b[0;32m    530\u001b[0m             \u001b[0mmeth\u001b[0m \u001b[1;33m=\u001b[0m \u001b[0mgetattr\u001b[0m\u001b[1;33m(\u001b[0m\u001b[0mprocessor\u001b[0m\u001b[1;33m,\u001b[0m \u001b[0mmeth_name\u001b[0m\u001b[1;33m)\u001b[0m\u001b[1;33m\u001b[0m\u001b[1;33m\u001b[0m\u001b[0m\n\u001b[1;32m--> 531\u001b[1;33m             \u001b[0mresponse\u001b[0m \u001b[1;33m=\u001b[0m \u001b[0mmeth\u001b[0m\u001b[1;33m(\u001b[0m\u001b[0mreq\u001b[0m\u001b[1;33m,\u001b[0m \u001b[0mresponse\u001b[0m\u001b[1;33m)\u001b[0m\u001b[1;33m\u001b[0m\u001b[1;33m\u001b[0m\u001b[0m\n\u001b[0m\u001b[0;32m    532\u001b[0m \u001b[1;33m\u001b[0m\u001b[0m\n\u001b[0;32m    533\u001b[0m         \u001b[1;32mreturn\u001b[0m \u001b[0mresponse\u001b[0m\u001b[1;33m\u001b[0m\u001b[1;33m\u001b[0m\u001b[0m\n",
      "\u001b[1;32mc:\\users\\milind.desktop-gbr1bs2\\appdata\\local\\programs\\python\\python38\\lib\\urllib\\request.py\u001b[0m in \u001b[0;36mhttp_response\u001b[1;34m(self, request, response)\u001b[0m\n\u001b[0;32m    638\u001b[0m         \u001b[1;31m# request was successfully received, understood, and accepted.\u001b[0m\u001b[1;33m\u001b[0m\u001b[1;33m\u001b[0m\u001b[1;33m\u001b[0m\u001b[0m\n\u001b[0;32m    639\u001b[0m         \u001b[1;32mif\u001b[0m \u001b[1;32mnot\u001b[0m \u001b[1;33m(\u001b[0m\u001b[1;36m200\u001b[0m \u001b[1;33m<=\u001b[0m \u001b[0mcode\u001b[0m \u001b[1;33m<\u001b[0m \u001b[1;36m300\u001b[0m\u001b[1;33m)\u001b[0m\u001b[1;33m:\u001b[0m\u001b[1;33m\u001b[0m\u001b[1;33m\u001b[0m\u001b[0m\n\u001b[1;32m--> 640\u001b[1;33m             response = self.parent.error(\n\u001b[0m\u001b[0;32m    641\u001b[0m                 'http', request, response, code, msg, hdrs)\n\u001b[0;32m    642\u001b[0m \u001b[1;33m\u001b[0m\u001b[0m\n",
      "\u001b[1;32mc:\\users\\milind.desktop-gbr1bs2\\appdata\\local\\programs\\python\\python38\\lib\\urllib\\request.py\u001b[0m in \u001b[0;36merror\u001b[1;34m(self, proto, *args)\u001b[0m\n\u001b[0;32m    567\u001b[0m         \u001b[1;32mif\u001b[0m \u001b[0mhttp_err\u001b[0m\u001b[1;33m:\u001b[0m\u001b[1;33m\u001b[0m\u001b[1;33m\u001b[0m\u001b[0m\n\u001b[0;32m    568\u001b[0m             \u001b[0margs\u001b[0m \u001b[1;33m=\u001b[0m \u001b[1;33m(\u001b[0m\u001b[0mdict\u001b[0m\u001b[1;33m,\u001b[0m \u001b[1;34m'default'\u001b[0m\u001b[1;33m,\u001b[0m \u001b[1;34m'http_error_default'\u001b[0m\u001b[1;33m)\u001b[0m \u001b[1;33m+\u001b[0m \u001b[0morig_args\u001b[0m\u001b[1;33m\u001b[0m\u001b[1;33m\u001b[0m\u001b[0m\n\u001b[1;32m--> 569\u001b[1;33m             \u001b[1;32mreturn\u001b[0m \u001b[0mself\u001b[0m\u001b[1;33m.\u001b[0m\u001b[0m_call_chain\u001b[0m\u001b[1;33m(\u001b[0m\u001b[1;33m*\u001b[0m\u001b[0margs\u001b[0m\u001b[1;33m)\u001b[0m\u001b[1;33m\u001b[0m\u001b[1;33m\u001b[0m\u001b[0m\n\u001b[0m\u001b[0;32m    570\u001b[0m \u001b[1;33m\u001b[0m\u001b[0m\n\u001b[0;32m    571\u001b[0m \u001b[1;31m# XXX probably also want an abstract factory that knows when it makes\u001b[0m\u001b[1;33m\u001b[0m\u001b[1;33m\u001b[0m\u001b[1;33m\u001b[0m\u001b[0m\n",
      "\u001b[1;32mc:\\users\\milind.desktop-gbr1bs2\\appdata\\local\\programs\\python\\python38\\lib\\urllib\\request.py\u001b[0m in \u001b[0;36m_call_chain\u001b[1;34m(self, chain, kind, meth_name, *args)\u001b[0m\n\u001b[0;32m    500\u001b[0m         \u001b[1;32mfor\u001b[0m \u001b[0mhandler\u001b[0m \u001b[1;32min\u001b[0m \u001b[0mhandlers\u001b[0m\u001b[1;33m:\u001b[0m\u001b[1;33m\u001b[0m\u001b[1;33m\u001b[0m\u001b[0m\n\u001b[0;32m    501\u001b[0m             \u001b[0mfunc\u001b[0m \u001b[1;33m=\u001b[0m \u001b[0mgetattr\u001b[0m\u001b[1;33m(\u001b[0m\u001b[0mhandler\u001b[0m\u001b[1;33m,\u001b[0m \u001b[0mmeth_name\u001b[0m\u001b[1;33m)\u001b[0m\u001b[1;33m\u001b[0m\u001b[1;33m\u001b[0m\u001b[0m\n\u001b[1;32m--> 502\u001b[1;33m             \u001b[0mresult\u001b[0m \u001b[1;33m=\u001b[0m \u001b[0mfunc\u001b[0m\u001b[1;33m(\u001b[0m\u001b[1;33m*\u001b[0m\u001b[0margs\u001b[0m\u001b[1;33m)\u001b[0m\u001b[1;33m\u001b[0m\u001b[1;33m\u001b[0m\u001b[0m\n\u001b[0m\u001b[0;32m    503\u001b[0m             \u001b[1;32mif\u001b[0m \u001b[0mresult\u001b[0m \u001b[1;32mis\u001b[0m \u001b[1;32mnot\u001b[0m \u001b[1;32mNone\u001b[0m\u001b[1;33m:\u001b[0m\u001b[1;33m\u001b[0m\u001b[1;33m\u001b[0m\u001b[0m\n\u001b[0;32m    504\u001b[0m                 \u001b[1;32mreturn\u001b[0m \u001b[0mresult\u001b[0m\u001b[1;33m\u001b[0m\u001b[1;33m\u001b[0m\u001b[0m\n",
      "\u001b[1;32mc:\\users\\milind.desktop-gbr1bs2\\appdata\\local\\programs\\python\\python38\\lib\\urllib\\request.py\u001b[0m in \u001b[0;36mhttp_error_default\u001b[1;34m(self, req, fp, code, msg, hdrs)\u001b[0m\n\u001b[0;32m    647\u001b[0m \u001b[1;32mclass\u001b[0m \u001b[0mHTTPDefaultErrorHandler\u001b[0m\u001b[1;33m(\u001b[0m\u001b[0mBaseHandler\u001b[0m\u001b[1;33m)\u001b[0m\u001b[1;33m:\u001b[0m\u001b[1;33m\u001b[0m\u001b[1;33m\u001b[0m\u001b[0m\n\u001b[0;32m    648\u001b[0m     \u001b[1;32mdef\u001b[0m \u001b[0mhttp_error_default\u001b[0m\u001b[1;33m(\u001b[0m\u001b[0mself\u001b[0m\u001b[1;33m,\u001b[0m \u001b[0mreq\u001b[0m\u001b[1;33m,\u001b[0m \u001b[0mfp\u001b[0m\u001b[1;33m,\u001b[0m \u001b[0mcode\u001b[0m\u001b[1;33m,\u001b[0m \u001b[0mmsg\u001b[0m\u001b[1;33m,\u001b[0m \u001b[0mhdrs\u001b[0m\u001b[1;33m)\u001b[0m\u001b[1;33m:\u001b[0m\u001b[1;33m\u001b[0m\u001b[1;33m\u001b[0m\u001b[0m\n\u001b[1;32m--> 649\u001b[1;33m         \u001b[1;32mraise\u001b[0m \u001b[0mHTTPError\u001b[0m\u001b[1;33m(\u001b[0m\u001b[0mreq\u001b[0m\u001b[1;33m.\u001b[0m\u001b[0mfull_url\u001b[0m\u001b[1;33m,\u001b[0m \u001b[0mcode\u001b[0m\u001b[1;33m,\u001b[0m \u001b[0mmsg\u001b[0m\u001b[1;33m,\u001b[0m \u001b[0mhdrs\u001b[0m\u001b[1;33m,\u001b[0m \u001b[0mfp\u001b[0m\u001b[1;33m)\u001b[0m\u001b[1;33m\u001b[0m\u001b[1;33m\u001b[0m\u001b[0m\n\u001b[0m\u001b[0;32m    650\u001b[0m \u001b[1;33m\u001b[0m\u001b[0m\n\u001b[0;32m    651\u001b[0m \u001b[1;32mclass\u001b[0m \u001b[0mHTTPRedirectHandler\u001b[0m\u001b[1;33m(\u001b[0m\u001b[0mBaseHandler\u001b[0m\u001b[1;33m)\u001b[0m\u001b[1;33m:\u001b[0m\u001b[1;33m\u001b[0m\u001b[1;33m\u001b[0m\u001b[0m\n",
      "\u001b[1;31mHTTPError\u001b[0m: HTTP Error 403: Forbidden"
     ]
    }
   ],
   "source": [
    "dataset = dict()\n",
    "dataset[\"image_name\"] = list()\n",
    "dataset[\"x_min\"] = list()\n",
    "dataset[\"y_min\"] = list()\n",
    "dataset[\"x_max\"] = list()\n",
    "dataset[\"y_max\"] = list()\n",
    "dataset[\"class_name\"] = list()\n",
    "\n",
    "counter = 0\n",
    "for index, row in plates_df.iterrows():\n",
    "    print(row[\"content\"])\n",
    "    img = urllib.request.urlopen(row[\"content\"])\n",
    "    img = Image.open(img)\n",
    "    img = img.convert('RGB')\n",
    "    img.save(f'number_plates/licensed_car_{counter}.jpeg', \"JPEG\")\n",
    "    \n",
    "    dataset[\"image_name\"].append('C:\\FAU\\bottle_detector\\Images\\OceanPlasticBottoles\\PXL_20210925_121634412.jpg')\n",
    "    \n",
    "    data = row[\"annotation\"]\n",
    "  \n",
    "    width = data[0][\"imageWidth\"]\n",
    "    height = data[0][\"imageHeight\"]\n",
    "\n",
    "    dataset[\"x_min\"].append(int(round(data[0][\"points\"][0][\"x\"] * width)))\n",
    "    dataset[\"y_min\"].append(int(round(data[0][\"points\"][0][\"y\"] * height)))\n",
    "    dataset[\"x_max\"].append(int(round(data[0][\"points\"][1][\"x\"] * width)))\n",
    "    dataset[\"y_max\"].append(int(round(data[0][\"points\"][1][\"y\"] * height)))\n",
    "    dataset[\"class_name\"].append(\"license_plate\")\n",
    "    \n",
    "    counter += 1\n",
    "print(\"Downloaded {} car images.\".format(counter))"
   ]
  }
 ],
 "metadata": {
  "kernelspec": {
   "display_name": "Python 3",
   "language": "python",
   "name": "python3"
  },
  "language_info": {
   "codemirror_mode": {
    "name": "ipython",
    "version": 3
   },
   "file_extension": ".py",
   "mimetype": "text/x-python",
   "name": "python",
   "nbconvert_exporter": "python",
   "pygments_lexer": "ipython3",
   "version": "3.8.6"
  }
 },
 "nbformat": 4,
 "nbformat_minor": 5
}
